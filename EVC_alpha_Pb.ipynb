{
 "cells": [
  {
   "cell_type": "markdown",
   "metadata": {},
   "source": [
    "# EVC for alpha-Pb scattering, addressing by example a complex potential\n",
    "Here we do tests of eigenvector continuation (EC) for alpha-Pb scattering in the L=0 and 20 channels based on an optical potential from [Physics Letters B 32, 465 (1970)](https://www.sciencedirect.com/science/article/abs/pii/0370269370903850), which is also used in  [Comp. Phys. Comm. 200, 199 (2016)](https://www.sciencedirect.com/science/article/pii/S0010465515003951?via%3Dihub) as a test example for its R-matrix code. The codes are the almost the same as those in the NN scattering notebook (`EVC_NN.ipynb`), except we use complex potential functions. In principle, both real and complex potential codes can be combined, which is a task left for future work. \n",
    "\n",
    "Figures 6 and S4 from [arXiv:2007.03635](https://arxiv.org/abs/2007.03635), \"Efficient emulators for scattering using eigenvector continuation\" by R.J. Furnstahl, P.J. Millican, and Xilin Zhang are generated here.\n",
    "\n",
    "\n",
    "#### Table of contents\n",
    "\n",
    "1. [A code for testing the convex hull of  basis points](#convex_hull_code)\n",
    "1. [Set up the output directory](#output_dir)\n",
    "1. [Code for generating results](#main_code)\n",
    "1. [Alpha-Pb scattering](#Main_calculations)\n",
    "  1. [Set the global parameters and define the potential](#global_para_setup) \n",
    "  1. [S-wave:test EC using a sample of test points in a 2-dim parameter space](#test_EC_2dim)\n",
    "  1. [L=20:test EC using a sample of test points in a 2-dim parameter space ](#test_EC_2dim_L20)\n",
    "1. [Collect the results and make plots for both channels](#plots)     \n",
    "  \n",
    "\n"
   ]
  },
  {
   "cell_type": "code",
   "execution_count": 1,
   "metadata": {},
   "outputs": [],
   "source": [
    "%load_ext autoreload\n",
    "%autoreload 2\n",
    "import numpy as np\n",
    "from scipy.integrate import simps\n",
    "from scipy.optimize import linprog\n",
    "import matplotlib.pyplot as plt\n",
    "\n",
    "from pyDOE import lhs    # https://pythonhosted.org/pyDOE/\n",
    "import pickle\n",
    "\n",
    "# local imports\n",
    "from Constants import * \n",
    "from two_body_comp_pot import two_body_pot ,  rmat_ini\n",
    "from evc_two_body_comp_pot import EigenvectorContinuationScattering"
   ]
  },
  {
   "cell_type": "markdown",
   "metadata": {},
   "source": [
    "## A code for testing the convex hull of  basis points. <a id=\"convex_hull_code\"></a>\n",
    "This checks within a parameter space whether a point is inside or outside the convex hull of a given set of basis points."
   ]
  },
  {
   "cell_type": "code",
   "execution_count": 2,
   "metadata": {},
   "outputs": [],
   "source": [
    "def in_hull(points, x):\n",
    "    '''points are basis points that define the convex hull,\n",
    "    while x is the point to be tested.\n",
    "    '''\n",
    "    n_points = len(points)\n",
    "    n_dim = len(x)\n",
    "    c = np.zeros(n_points)\n",
    "    A = np.r_[points.T,np.ones((1,n_points))]\n",
    "    b = np.r_[x, np.ones(1)]\n",
    "    lp = linprog(c, A_eq=A, b_eq=b)\n",
    "    return lp.success"
   ]
  },
  {
   "cell_type": "markdown",
   "metadata": {},
   "source": [
    "## Set up the ouput directory <a id=\"output_dir\"></a>\n",
    "Set up a dictionary to save the calcuation results. The pkl file will be saved in the output directory."
   ]
  },
  {
   "cell_type": "code",
   "execution_count": 3,
   "metadata": {},
   "outputs": [],
   "source": [
    "outdir='./Notebook_output/alpha_Pb/'\n",
    "res_dict={}"
   ]
  },
  {
   "cell_type": "markdown",
   "metadata": {},
   "source": [
    "## Code for generating results <a id=\"main_code\"></a>\n",
    "As in the NN notebook (`EVC_NN.ipynb`), but the `two_boy_pot`  and `EigenvectorContinuationScattering` are imported from modules for complex potentials."
   ]
  },
  {
   "cell_type": "code",
   "execution_count": 4,
   "metadata": {},
   "outputs": [],
   "source": [
    "def collect_results(outdir='./', channel='', nuggetsize=1.e-10,  num_basis_list=range(3,10), \n",
    "                     basis_potpara_array_list=np.array([]), test_potpara_list=np.array([]), \n",
    "                    local_pot_func= lambda r : 0, nonlocal_pot_func=lambda rvec:0 ):\n",
    "    test_pc_list=[ ]\n",
    "    num_test, dim_para=np.shape(test_potpara_list)\n",
    "    for i, test_potpara  in enumerate(test_potpara_list):\n",
    "        if i%10==0: print(f'setting up test potential class list: {i, num_test }')\n",
    "        test_local_pot_func= lambda r : local_pot_func(r, test_potpara)\n",
    "        test_nonlocal_pot_func= lambda rvec : nonlocal_pot_func(rvec, test_potpara)\n",
    "        test_pc = two_body_pot(pot_func=test_nonlocal_pot_func, local_pot_func= test_local_pot_func,\n",
    "                       mu=mu, hbar=hbarc, E_mesh=E_pts, r_c=r_c, r_max=r_max, r_in_mesh_pts=nr, r_out_mesh_pts=nr,\n",
    "                        angL=angL, z_t=z_t, z_p= z_p)   \n",
    "        test_pc_list.append(test_pc)\n",
    "    test_pc_list=np.array(test_pc_list)\n",
    "\n",
    "    for i, num_basis in enumerate(num_basis_list):\n",
    "        # num_basis is the number of potential-basis\n",
    "        print('looping over basis array: ' + f'{num_basis}')\n",
    "        output_file_prefix=outdir +channel + '_para-dim-' + f'{dim_para}' \\\n",
    "        + '_basis-' + f'{num_basis}'+'_full-sample-' + f'{num_test}' + '_'\n",
    "        # output-file prefix, which is used as key for the result dictionary. \n",
    "        basis_potpara_array = basis_potpara_array_list[i]\n",
    "        testinouthaull= np.apply_along_axis(lambda x : in_hull(basis_potpara_array, x), 1, test_potpara_list) \n",
    "        # testinouthuall: a boolen list of whether the test point is insdie or outside the convex haul of basis points\n",
    "        local_pot_func_array = [(lambda V0var:\n",
    "                             (lambda r : local_pot_func(r, V0var ) ) )(V0val) for V0val in basis_potpara_array ]\n",
    "        nonlocal_pot_func_array = [(lambda V0var:\n",
    "                             (lambda rvec : nonlocal_pot_func(rvec, V0var ) ) )(V0val) for V0val in basis_potpara_array ]\n",
    "        pc_array = [two_body_pot( pot_func=nonlocal_pot_func_array[ii], local_pot_func= local_pot_func, mu=mu, hbar=hbarc, \n",
    "                         E_mesh=E_pts, r_c=r_c, r_max=r_max, r_in_mesh_pts=nr, r_out_mesh_pts=nr,\n",
    "                        angL=angL, z_t=z_t, z_p= z_p)  for ii, local_pot_func  in  enumerate(local_pot_func_array)]       \n",
    "        tau_var_mesh_list= [] \n",
    "        ere_var_mesh_list=[]  \n",
    "        c_vec_mesh_list=[] \n",
    "        lag_mesh_list=[]\n",
    "        delta_tilde_U_condition_mesh_list=[]\n",
    "        test_pc_list_E_mesh_list=[]\n",
    "        test_pc_list_delta_mesh_list=[]\n",
    "        test_pc_list_tau_mesh_list=[]\n",
    "        test_pc_list_ere_mesh_list=[]\n",
    "        for j, test_potpara  in  enumerate(test_potpara_list):\n",
    "            test_local_pot_func= lambda r : local_pot_func(r, test_potpara)\n",
    "            test_nonlocal_pot_func= lambda rvec : nonlocal_pot_func(rvec, test_potpara)\n",
    "            my_evc = EigenvectorContinuationScattering(pc_array) \n",
    "            tau_var_mesh, ere_var_mesh, c_vec_mesh, lag_mesh, delta_tilde_U_condition_mesh = \\\n",
    "            my_evc.find_EVC_scattering(new_pot_func=test_nonlocal_pot_func, new_local_pot_func=test_local_pot_func, \n",
    "                                       pinv=False, nugget=True, cond=nuggetsize)\n",
    "            tau_var_mesh_list.append(tau_var_mesh ) \n",
    "            ere_var_mesh_list.append(ere_var_mesh)\n",
    "            c_vec_mesh_list.append(c_vec_mesh) \n",
    "            lag_mesh_list.append(lag_mesh)\n",
    "            delta_tilde_U_condition_mesh_list.append(delta_tilde_U_condition_mesh)\n",
    "            test_pc_list_E_mesh_list.append(test_pc_list[j].E_mesh)\n",
    "            test_pc_list_delta_mesh_list.append(test_pc_list[j].delta_mesh)\n",
    "            test_pc_list_tau_mesh_list.append(test_pc_list[j].tau_mesh)\n",
    "            test_pc_list_ere_mesh_list.append(test_pc_list[j].ere_mesh)\n",
    "        res_dict[output_file_prefix] = {\"test_potpara_list\":test_potpara_list, \"basis_potpara_array\":basis_potpara_array, \n",
    "                                    \"test_pc_list_E_mesh_list\": np.array(test_pc_list_E_mesh_list), \n",
    "                                    \"test_pc_list_delta_mesh_list\": np.array(test_pc_list_delta_mesh_list), \n",
    "                                    \"test_pc_list_tau_mesh_list\": np.array(test_pc_list_tau_mesh_list), \n",
    "                                    \"test_pc_list_ere_mesh_list\": np.array(test_pc_list_ere_mesh_list),\n",
    "                                    \"testinouthaull\": testinouthaull, \n",
    "                                    \"tau_var_mesh_list\": np.array(tau_var_mesh_list), \n",
    "                                    \"ere_var_mesh_list\": np.array(ere_var_mesh_list),  \n",
    "                                    \"c_vec_mesh_list \": np.array(c_vec_mesh_list) , \"lag_mesh_list\" : np.array(lag_mesh_list), \n",
    "                                    \"delta_tilde_U_condition_mesh_list\" : np.array(delta_tilde_U_condition_mesh_list) }   \n",
    "    return test_pc_list"
   ]
  },
  {
   "cell_type": "markdown",
   "metadata": {},
   "source": [
    "## Alpha-Pb scattering <a id=\"Main_calculations\"></a>"
   ]
  },
  {
   "cell_type": "markdown",
   "metadata": {},
   "source": [
    "### Set the global parameters and define the potential  <a id=\"global_para_setup\"></a>\n",
    "Note: for faster evalulation, set `nr= 50`, `r_c=18`. Explanations of variables can be found in the NN notebook (`EVC_NN.ipynb`). "
   ]
  },
  {
   "cell_type": "code",
   "execution_count": 5,
   "metadata": {},
   "outputs": [],
   "source": [
    "E_pts = np.linspace(15, 30, 100)      # asymptotic energy\n",
    "mu = 208*4/212 * hbarc**2/(2*20.736); # From the R-matrix package\n",
    "hbar = hbarc;  z_p = 2; z_t = 82; nr = 50;  r_c = 18;  r_max = 25; "
   ]
  },
  {
   "cell_type": "code",
   "execution_count": 6,
   "metadata": {},
   "outputs": [
    {
     "data": {
      "text/plain": [
       "3684.7294423250983"
      ]
     },
     "execution_count": 6,
     "metadata": {},
     "output_type": "execute_result"
    }
   ],
   "source": [
    "mu"
   ]
  },
  {
   "cell_type": "code",
   "execution_count": 7,
   "metadata": {},
   "outputs": [],
   "source": [
    "# the values used in Comput. Phys. Commun. 200, 199 (2016) \n",
    "V0_desc=-100\n",
    "W0_desc=-10 \n"
   ]
  },
  {
   "cell_type": "code",
   "execution_count": 8,
   "metadata": {},
   "outputs": [],
   "source": [
    "def f(r, R, a): \n",
    "    return 1./(1.+np.exp((r-R)/a))\n",
    "\n",
    "def local_pot_func_alpha_Pb(r, V0=V0_desc, W0=W0_desc):\n",
    "    R_R = 1.1132*(208.**(1./3.) +4.**(1./3.) )\n",
    "    R_I = R_R\n",
    "    a_R = 0.5803\n",
    "    a_I = a_R\n",
    "    return V0*f(r, R_R, a_R) + 1j*W0*f(r, R_I, a_I) "
   ]
  },
  {
   "cell_type": "markdown",
   "metadata": {},
   "source": [
    "### S-wave: test EC using a sample of test points in a 2-dim parameter space  <a id=\"test_EC_2dim\"></a>\n",
    "Here we vary both the real and imaginary parts of the potential."
   ]
  },
  {
   "cell_type": "code",
   "execution_count": 9,
   "metadata": {},
   "outputs": [],
   "source": [
    "angL=0\n",
    "channel=\"alpha_Pb_S\""
   ]
  },
  {
   "cell_type": "code",
   "execution_count": 10,
   "metadata": {},
   "outputs": [],
   "source": [
    "deltaV_relative= 0.5 # the plus and minus range of potential-strength's variation in relative size\n",
    "num_full=200         # number of test-potential points\n",
    "dim_para=2           # dim of the parameter space \n",
    "nuggetsize=1.e-10\n",
    "np.random.seed(82986)\n",
    "\n",
    "test_potpara_list= np.apply_along_axis(lambda v : np.array( [ V0_desc*( 1 + (v[0] - 0.5)/0.5*deltaV_relative) , \n",
    "                                                              W0_desc*( 1 + (v[1] - 0.5)/0.5*deltaV_relative)  ] ) , \n",
    "                                       1,  np.random.rand(num_full, dim_para))  \n",
    "num_basis_list= np.arange(3,16)\n",
    "np.random.seed(98632)\n",
    "basis_potpara_array_list= [np.apply_along_axis(lambda v : np.array( [ V0_desc*( 1 + (v[0] - 0.5)/0.5*deltaV_relative) , \n",
    "                                                              W0_desc*( 1 + (v[1] - 0.5)/0.5*deltaV_relative)  ] ) , \n",
    "                            1, lhs(dim_para,num_basis))  for num_basis in num_basis_list]\n",
    "local_pot_func= lambda r, potpara_vec : local_pot_func_alpha_Pb(r, V0=potpara_vec[0], W0=potpara_vec[1])\n",
    "nonlocal_pot_func= lambda rvec, potpara_vec: 0"
   ]
  },
  {
   "cell_type": "code",
   "execution_count": 11,
   "metadata": {},
   "outputs": [
    {
     "name": "stdout",
     "output_type": "stream",
     "text": [
      "setting up test potential class list: (0, 200)\n",
      "setting up test potential class list: (10, 200)\n",
      "setting up test potential class list: (20, 200)\n",
      "setting up test potential class list: (30, 200)\n",
      "setting up test potential class list: (40, 200)\n",
      "setting up test potential class list: (50, 200)\n",
      "setting up test potential class list: (60, 200)\n",
      "setting up test potential class list: (70, 200)\n",
      "setting up test potential class list: (80, 200)\n",
      "setting up test potential class list: (90, 200)\n",
      "setting up test potential class list: (100, 200)\n",
      "setting up test potential class list: (110, 200)\n",
      "setting up test potential class list: (120, 200)\n",
      "setting up test potential class list: (130, 200)\n",
      "setting up test potential class list: (140, 200)\n",
      "setting up test potential class list: (150, 200)\n",
      "setting up test potential class list: (160, 200)\n",
      "setting up test potential class list: (170, 200)\n",
      "setting up test potential class list: (180, 200)\n",
      "setting up test potential class list: (190, 200)\n",
      "looping over basis array: 3\n",
      "looping over basis array: 4\n",
      "looping over basis array: 5\n",
      "looping over basis array: 6\n",
      "looping over basis array: 7\n",
      "looping over basis array: 8\n",
      "looping over basis array: 9\n",
      "looping over basis array: 10\n",
      "looping over basis array: 11\n",
      "looping over basis array: 12\n",
      "looping over basis array: 13\n",
      "looping over basis array: 14\n",
      "looping over basis array: 15\n"
     ]
    }
   ],
   "source": [
    "test_pc_list_L_0 = collect_results(outdir=outdir, channel=channel, nuggetsize=nuggetsize, num_basis_list=num_basis_list, \n",
    "                     basis_potpara_array_list=basis_potpara_array_list, test_potpara_list=test_potpara_list, \n",
    "                    local_pot_func= local_pot_func, nonlocal_pot_func=nonlocal_pot_func) "
   ]
  },
  {
   "cell_type": "code",
   "execution_count": 12,
   "metadata": {},
   "outputs": [],
   "source": [
    "### save the results to a file\n",
    "with open(outdir + 'res_dict.pkl', 'wb') as output:\n",
    "    pickle.dump(res_dict, output, pickle.HIGHEST_PROTOCOL)"
   ]
  },
  {
   "cell_type": "markdown",
   "metadata": {},
   "source": [
    "### L=20: test EC using a sample of test points in a 2-dim parameter space  <a id=\"test_EC_2dim_L20\"></a>"
   ]
  },
  {
   "cell_type": "code",
   "execution_count": 13,
   "metadata": {},
   "outputs": [],
   "source": [
    "angL = 20\n",
    "channel = \"alpha_Pb_L20\""
   ]
  },
  {
   "cell_type": "code",
   "execution_count": 14,
   "metadata": {},
   "outputs": [],
   "source": [
    "deltaV_relative= 0.5 #  the plus and minus range of potential-strength's variation in relative size\n",
    "num_full=200 # number of test-potential points\n",
    "dim_para=2 # dim of the parameter space \n",
    "nuggetsize=1.e-10\n",
    "np.random.seed(98798)\n",
    "\n",
    "test_potpara_list= np.apply_along_axis(lambda v : np.array( [ V0_desc*( 1 + (v[0] - 0.5)/0.5*deltaV_relative) , \n",
    "                                                              W0_desc*( 1 + (v[1] - 0.5)/0.5*deltaV_relative)  ] ) , \n",
    "                            1,  np.random.rand(num_full, dim_para))  \n",
    "num_basis_list= np.arange(3,20)\n",
    "np.random.seed(988762)\n",
    "basis_potpara_array_list= [np.apply_along_axis(lambda v : np.array( [ V0_desc*( 1 + (v[0] - 0.5)/0.5*deltaV_relative) , \n",
    "                                                              W0_desc*( 1 + (v[1] - 0.5)/0.5*deltaV_relative)  ] ) , \n",
    "                            1, lhs(dim_para,num_basis))  for num_basis in num_basis_list]\n",
    "local_pot_func= lambda r, potpara_vec : local_pot_func_alpha_Pb(r, V0=potpara_vec[0], W0=potpara_vec[1])\n",
    "nonlocal_pot_func= lambda rvec, potpara_vec: 0"
   ]
  },
  {
   "cell_type": "code",
   "execution_count": 15,
   "metadata": {},
   "outputs": [
    {
     "name": "stdout",
     "output_type": "stream",
     "text": [
      "setting up test potential class list: (0, 200)\n",
      "setting up test potential class list: (10, 200)\n",
      "setting up test potential class list: (20, 200)\n",
      "setting up test potential class list: (30, 200)\n",
      "setting up test potential class list: (40, 200)\n",
      "setting up test potential class list: (50, 200)\n",
      "setting up test potential class list: (60, 200)\n",
      "setting up test potential class list: (70, 200)\n",
      "setting up test potential class list: (80, 200)\n",
      "setting up test potential class list: (90, 200)\n",
      "setting up test potential class list: (100, 200)\n",
      "setting up test potential class list: (110, 200)\n",
      "setting up test potential class list: (120, 200)\n",
      "setting up test potential class list: (130, 200)\n",
      "setting up test potential class list: (140, 200)\n",
      "setting up test potential class list: (150, 200)\n",
      "setting up test potential class list: (160, 200)\n",
      "setting up test potential class list: (170, 200)\n",
      "setting up test potential class list: (180, 200)\n",
      "setting up test potential class list: (190, 200)\n",
      "looping over basis array: 3\n",
      "looping over basis array: 4\n",
      "looping over basis array: 5\n",
      "looping over basis array: 6\n",
      "looping over basis array: 7\n",
      "looping over basis array: 8\n",
      "looping over basis array: 9\n",
      "looping over basis array: 10\n",
      "looping over basis array: 11\n",
      "looping over basis array: 12\n",
      "looping over basis array: 13\n",
      "looping over basis array: 14\n",
      "looping over basis array: 15\n",
      "looping over basis array: 16\n",
      "looping over basis array: 17\n",
      "looping over basis array: 18\n",
      "looping over basis array: 19\n"
     ]
    }
   ],
   "source": [
    "test_pc_list_L_20 = collect_results(outdir=outdir, channel=channel, nuggetsize=nuggetsize, num_basis_list=num_basis_list, \n",
    "                     basis_potpara_array_list=basis_potpara_array_list, test_potpara_list=test_potpara_list, \n",
    "                    local_pot_func= local_pot_func, nonlocal_pot_func=nonlocal_pot_func) \n"
   ]
  },
  {
   "cell_type": "code",
   "execution_count": 16,
   "metadata": {},
   "outputs": [],
   "source": [
    "with open(outdir+'res_dict.pkl', 'wb') as output:\n",
    "    pickle.dump(res_dict, output, pickle.HIGHEST_PROTOCOL)"
   ]
  },
  {
   "cell_type": "markdown",
   "metadata": {},
   "source": [
    "## Collect the results and make plots for both channels <a id=\"plots\"></a>"
   ]
  },
  {
   "cell_type": "code",
   "execution_count": 17,
   "metadata": {},
   "outputs": [],
   "source": [
    "with open(outdir+'res_dict.pkl', 'rb') as output:\n",
    "    res_dict=pickle.load(output)"
   ]
  },
  {
   "cell_type": "code",
   "execution_count": 18,
   "metadata": {},
   "outputs": [
    {
     "name": "stdout",
     "output_type": "stream",
     "text": [
      "number of inter.: 110\n",
      "number of extr.: 90\n",
      "number of inter.: 123\n",
      "number of extr.: 77\n",
      "number of inter.: 119\n",
      "number of extr.: 81\n"
     ]
    },
    {
     "data": {
      "image/png": "[encoded data removed]",
      "text/plain": [
       "<Figure size 244.8x163.2 with 1 Axes>"
      ]
     },
     "metadata": {
      "needs_background": "light"
     },
     "output_type": "display_data"
    }
   ],
   "source": [
    "# for L=20\n",
    "channel , dim_para,  num_full = \"alpha_Pb_L20\", 2, 200 \n",
    "color_list= ['red', 'blue', 'black']  \n",
    "linestyle_list= ['--', '-', ':']\n",
    "fig, ax = plt.subplots(ncols=1, nrows=1, figsize=(3.4, 3.4*2/3), sharex=True, sharey=True) \n",
    "fig.suptitle(r'$\\alpha$-$^{208}$Pb ($L=20$)' +': interpolation' \n",
    "             , x=0.57, y= 1.02,  fontsize=12)\n",
    "\n",
    "ax.set_yscale('log')\n",
    "ax.tick_params(bottom=True, top=True, left=True, right=True)\n",
    "ax.set_ylabel('Mean of |Relative error|', fontsize=10)\n",
    "ax.set_xlabel('E (MeV)', fontsize=10)\n",
    "ax.set_ylim(10**(-9), 10**(-2))\n",
    "########### \n",
    "for i, num_basis  in enumerate([10,13,15]) :  \n",
    "    output_file_prefix=outdir + channel + '_para-dim-' + f'{dim_para}' \\\n",
    "    + '_basis-' + f'{num_basis}'+'_full-sample-' + f'{num_full}' + '_'\n",
    "    test_pc_list_tau_mesh_list, testinouthaull, tau_var_mesh_list  = \\\n",
    "            map(res_dict[output_file_prefix].get, ['test_pc_list_tau_mesh_list', 'testinouthaull', 'tau_var_mesh_list'] )   \n",
    "    tau_mesh_list_1 = test_pc_list_tau_mesh_list[testinouthaull]\n",
    "    tau_mesh_list_2 = test_pc_list_tau_mesh_list[np.logical_not(testinouthaull)]\n",
    "    tau_var_mesh_list_1=tau_var_mesh_list[testinouthaull]\n",
    "    tau_var_mesh_list_2=tau_var_mesh_list[np.logical_not(testinouthaull)]    \n",
    "    print('number of inter.:', np.shape(tau_mesh_list_1)[0])\n",
    "    print('number of extr.:', np.shape(tau_mesh_list_2)[0])\n",
    "    ax.plot(E_pts[0:], np.mean( np.array( [ np.absolute(tau_mesh/tau_var_mesh_list_1[i]-1) \n",
    "                    for i, tau_mesh in enumerate(tau_mesh_list_1) ]) , axis=0 )[0:], label = r\"$N_b:$\"+f'{num_basis}', \n",
    "           color=color_list[i], linestyle=linestyle_list[i])\n",
    "ax.legend(loc='best', fontsize=10, ncol=1 , columnspacing=1, handlelength=1, handletextpad=0.5) \n",
    "fig.tight_layout()\n",
    "plt.savefig(outdir+'L_20_'+'interpolation_rel_error_for_tau_paper.pdf', bbox_inches='tight')  \n",
    "    "
   ]
  },
  {
   "cell_type": "code",
   "execution_count": 19,
   "metadata": {},
   "outputs": [
    {
     "name": "stdout",
     "output_type": "stream",
     "text": [
      "number of inter.: 116\n",
      "number of extr.: 84\n",
      "number of inter.: 136\n",
      "number of extr.: 64\n",
      "number of inter.: 149\n",
      "number of extr.: 51\n"
     ]
    },
    {
     "data": {
      "image/png": "[encoded data removed]",
      "text/plain": [
       "<Figure size 489.6x326.4 with 4 Axes>"
      ]
     },
     "metadata": {
      "needs_background": "light"
     },
     "output_type": "display_data"
    }
   ],
   "source": [
    "# for shalf\n",
    "channel , dim_para,  num_full = \"alpha_Pb_S\", 2, 200 \n",
    "color_list= ['red', 'blue', 'black']  \n",
    "linestyle_list= ['--', '-', ':']\n",
    "fig, ax = plt.subplots(ncols=2, nrows=2, figsize=(3.4*2, 3.4*2*2/3), sharex=True, sharey=True) \n",
    "fig.suptitle('Relative error for '+r'$\\alpha$-Pb ($L=0$)'+' scattering; varying '+r'$V_{0}$, $W_{0}$' \n",
    "             , x=0.5, y= 1.02,  fontsize=12)\n",
    "\n",
    "ax[0,0].set_yscale('log')\n",
    "ax[0,0].tick_params(bottom=True, top=True, left=True, right=True)\n",
    "ax[0,0].set_title('Mean for interpolation', fontsize= 10)\n",
    "ax[0,1].set_yscale('log')\n",
    "ax[0,1].tick_params(bottom=True, top=True, left=True, right=True)\n",
    "ax[0,1].set_title('Mean for extrapolation', fontsize= 10)\n",
    "ax[1,0].set_yscale('log')\n",
    "ax[1,0].set_xlabel('E (MeV)', fontsize=10)\n",
    "ax[1,0].tick_params(bottom=True, top=True, left=True, right=True)\n",
    "ax[1,0].set_title('Std for interpolation', fontsize= 10)\n",
    "ax[1,1].set_yscale('log')\n",
    "ax[1,1].set_xlabel('E (MeV)', fontsize=10)\n",
    "ax[1,1].tick_params(bottom=True, top=True, left=True, right=True)\n",
    "ax[1,1].set_title('Std for extrapolation', fontsize= 10)\n",
    "########### \n",
    "for i, num_basis  in enumerate([10,13,15] ):  \n",
    "    output_file_prefix=outdir + channel + '_para-dim-' + f'{dim_para}' \\\n",
    "    + '_basis-' + f'{num_basis}'+'_full-sample-' + f'{num_full}' + '_'\n",
    "    test_pc_list_tau_mesh_list, testinouthaull, tau_var_mesh_list  = \\\n",
    "            map(res_dict[output_file_prefix].get, ['test_pc_list_tau_mesh_list', 'testinouthaull', 'tau_var_mesh_list'] )   \n",
    "    tau_mesh_list_1 = test_pc_list_tau_mesh_list[testinouthaull]\n",
    "    tau_mesh_list_2 = test_pc_list_tau_mesh_list[np.logical_not(testinouthaull)]\n",
    "    tau_var_mesh_list_1=tau_var_mesh_list[testinouthaull]\n",
    "    tau_var_mesh_list_2=tau_var_mesh_list[np.logical_not(testinouthaull)]    \n",
    "    print('number of inter.:', np.shape(tau_mesh_list_1)[0])\n",
    "    print('number of extr.:', np.shape(tau_mesh_list_2)[0])\n",
    "    ax[0,0].plot(E_pts[1:], np.mean( np.array( [ np.absolute(tau_mesh/tau_var_mesh_list_1[i]-1) \n",
    "                    for i, tau_mesh in enumerate(tau_mesh_list_1) ]) , axis=0 )[1:], label = r\"$N_b:$\"+f'{num_basis}',\n",
    "                color=color_list[i], linestyle=linestyle_list[i])\n",
    "    ax[0,1].plot(E_pts[1:], np.mean( np.array( [ np.absolute(tau_mesh/tau_var_mesh_list_2[i]-1) \n",
    "                    for i, tau_mesh in enumerate(tau_mesh_list_2) ]) , axis=0 )[1:], label = r\"$N_b:$\"+f'{num_basis}',\n",
    "                color=color_list[i], linestyle=linestyle_list[i])\n",
    "    ax[1,0].plot(E_pts[1:], np.std(np.array( [ np.absolute(tau_mesh/tau_var_mesh_list_1[i]-1) \n",
    "                    for i, tau_mesh in enumerate(tau_mesh_list_1) ]) , axis=0 )[1:],  label = r\"$N_b:$\"+f'{num_basis}',\n",
    "                color=color_list[i], linestyle=linestyle_list[i])\n",
    "    ax[1,1].plot(E_pts[1:], np.std(np.array( [ np.absolute(tau_mesh/tau_var_mesh_list_2[i]-1) \n",
    "                    for i, tau_mesh in enumerate(tau_mesh_list_2) ]), axis=0 )[1:],  label = r\"$N_b:$\"+f'{num_basis}' ,\n",
    "                color=color_list[i], linestyle=linestyle_list[i])\n",
    "ax[0,0].legend(loc='best', fontsize=10, ncol=3 , columnspacing=1, handlelength=1, handletextpad=0.5) \n",
    "#ax[0,1].legend(loc='best', fontsize=10, ncol=3 , columnspacing=1, handlelength=1, handletextpad=0.5) \n",
    "#ax[1,0].legend(loc='best', fontsize=10, ncol=3 , columnspacing=1, handlelength=1, handletextpad=0.5) \n",
    "#ax[1,1].legend(loc='best', fontsize=10, ncol=3 , columnspacing=1, handlelength=1, handletextpad=0.5) \n",
    "fig.tight_layout()\n",
    "plt.savefig(outdir+'L_0_'+'interpolation_vs_extrapolation_rel_error_for_tau.pdf', bbox_inches='tight')  \n",
    "    "
   ]
  },
  {
   "cell_type": "code",
   "execution_count": 20,
   "metadata": {},
   "outputs": [
    {
     "name": "stdout",
     "output_type": "stream",
     "text": [
      "number of inter.: 110\n",
      "number of extr.: 90\n",
      "number of inter.: 123\n",
      "number of extr.: 77\n",
      "number of inter.: 119\n",
      "number of extr.: 81\n"
     ]
    },
    {
     "data": {
      "image/png": "[encoded data removed]",
      "text/plain": [
       "<Figure size 489.6x326.4 with 4 Axes>"
      ]
     },
     "metadata": {
      "needs_background": "light"
     },
     "output_type": "display_data"
    }
   ],
   "source": [
    "# for L=20\n",
    "channel , dim_para,  num_full = \"alpha_Pb_L20\", 2, 200 \n",
    "color_list= ['red', 'blue', 'black']  \n",
    "linestyle_list= ['--', '-', ':']\n",
    "fig, ax = plt.subplots(ncols=2, nrows=2, figsize=(3.4*2, 3.4*2*2/3), sharex=True, sharey=True) \n",
    "fig.suptitle('Relative error for '+r'$\\alpha$-Pb ($L=0$)'+' scattering; varying '+r'$V_{0}$, $W_{0}$' \n",
    "             , x=0.5, y= 1.02,  fontsize=12)\n",
    "\n",
    "ax[0,0].set_yscale('log')\n",
    "ax[0,0].tick_params(bottom=True, top=True, left=True, right=True)\n",
    "ax[0,0].set_title('Mean for interpolation', fontsize= 10)\n",
    "ax[0,1].set_yscale('log')\n",
    "ax[0,1].tick_params(bottom=True, top=True, left=True, right=True)\n",
    "ax[0,1].set_title('Mean for extrapolation', fontsize= 10)\n",
    "ax[1,0].set_yscale('log')\n",
    "ax[1,0].set_xlabel('E (MeV)', fontsize=10)\n",
    "ax[1,0].tick_params(bottom=True, top=True, left=True, right=True)\n",
    "ax[1,0].set_title('Std for interpolation', fontsize= 10)\n",
    "ax[1,1].set_yscale('log')\n",
    "ax[1,1].set_xlabel('E (MeV)', fontsize=10)\n",
    "ax[1,1].tick_params(bottom=True, top=True, left=True, right=True)\n",
    "ax[1,1].set_title('Std for extrapolation', fontsize= 10)\n",
    "########### \n",
    "for i, num_basis  in enumerate([10,13,15] ):  \n",
    "    output_file_prefix=outdir + channel + '_para-dim-' + f'{dim_para}' \\\n",
    "    + '_basis-' + f'{num_basis}'+'_full-sample-' + f'{num_full}' + '_'\n",
    "    test_pc_list_tau_mesh_list, testinouthaull, tau_var_mesh_list  = \\\n",
    "            map(res_dict[output_file_prefix].get, ['test_pc_list_tau_mesh_list', 'testinouthaull', 'tau_var_mesh_list'] )   \n",
    "    tau_mesh_list_1 = test_pc_list_tau_mesh_list[testinouthaull]\n",
    "    tau_mesh_list_2 = test_pc_list_tau_mesh_list[np.logical_not(testinouthaull)]\n",
    "    tau_var_mesh_list_1=tau_var_mesh_list[testinouthaull]\n",
    "    tau_var_mesh_list_2=tau_var_mesh_list[np.logical_not(testinouthaull)]    \n",
    "    print('number of inter.:', np.shape(tau_mesh_list_1)[0])\n",
    "    print('number of extr.:', np.shape(tau_mesh_list_2)[0])\n",
    "    ax[0,0].plot(E_pts[1:], np.mean( np.array( [ np.absolute(tau_mesh/tau_var_mesh_list_1[i]-1) \n",
    "                    for i, tau_mesh in enumerate(tau_mesh_list_1) ]) , axis=0 )[1:], label = r\"$N_b:$\"+f'{num_basis}',\n",
    "                color=color_list[i], linestyle=linestyle_list[i])\n",
    "    ax[0,1].plot(E_pts[1:], np.mean( np.array( [ np.absolute(tau_mesh/tau_var_mesh_list_2[i]-1) \n",
    "                    for i, tau_mesh in enumerate(tau_mesh_list_2) ]) , axis=0 )[1:], label = r\"$N_b:$\"+f'{num_basis}',\n",
    "                color=color_list[i], linestyle=linestyle_list[i])\n",
    "    ax[1,0].plot(E_pts[1:], np.std(np.array( [ np.absolute(tau_mesh/tau_var_mesh_list_1[i]-1) \n",
    "                    for i, tau_mesh in enumerate(tau_mesh_list_1) ]) , axis=0 )[1:],  label = r\"$N_b:$\"+f'{num_basis}',\n",
    "                color=color_list[i], linestyle=linestyle_list[i])\n",
    "    ax[1,1].plot(E_pts[1:], np.std(np.array( [ np.absolute(tau_mesh/tau_var_mesh_list_2[i]-1) \n",
    "                    for i, tau_mesh in enumerate(tau_mesh_list_2) ]), axis=0 )[1:],  label = r\"$N_b:$\"+f'{num_basis}' ,\n",
    "                color=color_list[i], linestyle=linestyle_list[i])\n",
    "ax[0,0].legend(loc='best', fontsize=10, ncol=3 , columnspacing=1, handlelength=1, handletextpad=0.5) \n",
    "#ax[0,1].legend(loc='best', fontsize=10, ncol=3 , columnspacing=1, handlelength=1, handletextpad=0.5) \n",
    "#ax[1,0].legend(loc='best', fontsize=10, ncol=3 , columnspacing=1, handlelength=1, handletextpad=0.5) \n",
    "#ax[1,1].legend(loc='best', fontsize=10, ncol=3 , columnspacing=1, handlelength=1, handletextpad=0.5) \n",
    "fig.tight_layout()\n",
    "plt.savefig(outdir+'L_20_'+'interpolation_vs_extrapolation_rel_error_for_tau.pdf', bbox_inches='tight')  "
   ]
  },
  {
   "cell_type": "code",
   "execution_count": null,
   "metadata": {},
   "outputs": [],
   "source": []
  }
 ],
 "metadata": {
  "kernelspec": {
   "display_name": "Python 3",
   "language": "python",
   "name": "python3"
  },
  "language_info": {
   "codemirror_mode": {
    "name": "ipython",
    "version": 3
   },
   "file_extension": ".py",
   "mimetype": "text/x-python",
   "name": "python",
   "nbconvert_exporter": "python",
   "pygments_lexer": "ipython3",
   "version": "3.6.9"
  }
 },
 "nbformat": 4,
 "nbformat_minor": 4
}
